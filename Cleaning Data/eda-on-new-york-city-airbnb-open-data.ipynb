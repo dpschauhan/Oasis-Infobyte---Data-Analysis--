{
 "cells": [
  {
   "cell_type": "code",
   "execution_count": 5,
   "id": "f73c71e8",
   "metadata": {
    "_cell_guid": "b1076dfc-b9ad-4769-8c92-a6c4dae69d19",
    "_uuid": "8f2839f25d086af736a60e9eeb907d3b93b6e0e5",
    "execution": {
     "iopub.execute_input": "2024-07-23T06:33:58.876599Z",
     "iopub.status.busy": "2024-07-23T06:33:58.876219Z",
     "iopub.status.idle": "2024-07-23T06:33:59.681279Z",
     "shell.execute_reply": "2024-07-23T06:33:59.680226Z"
    },
    "papermill": {
     "duration": 0.818263,
     "end_time": "2024-07-23T06:33:59.684637",
     "exception": false,
     "start_time": "2024-07-23T06:33:58.866374",
     "status": "completed"
    },
    "tags": []
   },
   "outputs": [],
   "source": [
    "import numpy as np \n",
    "import pandas as pd "
   ]
  },
  {
   "cell_type": "code",
   "execution_count": 6,
   "id": "08c6574e",
   "metadata": {
    "execution": {
     "iopub.execute_input": "2024-07-23T06:33:59.703806Z",
     "iopub.status.busy": "2024-07-23T06:33:59.702996Z",
     "iopub.status.idle": "2024-07-23T06:34:00.860775Z",
     "shell.execute_reply": "2024-07-23T06:34:00.859928Z"
    },
    "papermill": {
     "duration": 1.169626,
     "end_time": "2024-07-23T06:34:00.863365",
     "exception": false,
     "start_time": "2024-07-23T06:33:59.693739",
     "status": "completed"
    },
    "tags": []
   },
   "outputs": [],
   "source": [
    "import pandas as pd\n",
    "import numpy as np\n",
    "import matplotlib \n",
    "import matplotlib.pyplot as plt\n",
    "import seaborn as sns"
   ]
  },
  {
   "cell_type": "markdown",
   "id": "ce2fbfe5",
   "metadata": {
    "papermill": {
     "duration": 0.007718,
     "end_time": "2024-07-23T06:34:00.879367",
     "exception": false,
     "start_time": "2024-07-23T06:34:00.871649",
     "status": "completed"
    },
    "tags": []
   },
   "source": [
    "# Data Preperation & Cleaning"
   ]
  },
  {
   "cell_type": "code",
   "execution_count": 14,
   "id": "a12c5ac2",
   "metadata": {
    "execution": {
     "iopub.execute_input": "2024-07-23T06:34:00.897518Z",
     "iopub.status.busy": "2024-07-23T06:34:00.896446Z",
     "iopub.status.idle": "2024-07-23T06:34:01.201384Z",
     "shell.execute_reply": "2024-07-23T06:34:01.200363Z"
    },
    "papermill": {
     "duration": 0.316574,
     "end_time": "2024-07-23T06:34:01.203909",
     "exception": false,
     "start_time": "2024-07-23T06:34:00.887335",
     "status": "completed"
    },
    "tags": []
   },
   "outputs": [
    {
     "data": {
      "text/html": [
       "<div>\n",
       "<style scoped>\n",
       "    .dataframe tbody tr th:only-of-type {\n",
       "        vertical-align: middle;\n",
       "    }\n",
       "\n",
       "    .dataframe tbody tr th {\n",
       "        vertical-align: top;\n",
       "    }\n",
       "\n",
       "    .dataframe thead th {\n",
       "        text-align: right;\n",
       "    }\n",
       "</style>\n",
       "<table border=\"1\" class=\"dataframe\">\n",
       "  <thead>\n",
       "    <tr style=\"text-align: right;\">\n",
       "      <th></th>\n",
       "      <th>id</th>\n",
       "      <th>name</th>\n",
       "      <th>host_id</th>\n",
       "      <th>host_name</th>\n",
       "      <th>neighbourhood_group</th>\n",
       "      <th>neighbourhood</th>\n",
       "      <th>latitude</th>\n",
       "      <th>longitude</th>\n",
       "      <th>room_type</th>\n",
       "      <th>price</th>\n",
       "      <th>minimum_nights</th>\n",
       "      <th>number_of_reviews</th>\n",
       "      <th>last_review</th>\n",
       "      <th>reviews_per_month</th>\n",
       "      <th>calculated_host_listings_count</th>\n",
       "      <th>availability_365</th>\n",
       "    </tr>\n",
       "  </thead>\n",
       "  <tbody>\n",
       "    <tr>\n",
       "      <th>0</th>\n",
       "      <td>2539</td>\n",
       "      <td>Clean &amp; quiet apt home by the park</td>\n",
       "      <td>2787</td>\n",
       "      <td>John</td>\n",
       "      <td>Brooklyn</td>\n",
       "      <td>Kensington</td>\n",
       "      <td>40.64749</td>\n",
       "      <td>-73.97237</td>\n",
       "      <td>Private room</td>\n",
       "      <td>149</td>\n",
       "      <td>1</td>\n",
       "      <td>9</td>\n",
       "      <td>2018-10-19</td>\n",
       "      <td>0.21</td>\n",
       "      <td>6</td>\n",
       "      <td>365</td>\n",
       "    </tr>\n",
       "    <tr>\n",
       "      <th>1</th>\n",
       "      <td>2595</td>\n",
       "      <td>Skylit Midtown Castle</td>\n",
       "      <td>2845</td>\n",
       "      <td>Jennifer</td>\n",
       "      <td>Manhattan</td>\n",
       "      <td>Midtown</td>\n",
       "      <td>40.75362</td>\n",
       "      <td>-73.98377</td>\n",
       "      <td>Entire home/apt</td>\n",
       "      <td>225</td>\n",
       "      <td>1</td>\n",
       "      <td>45</td>\n",
       "      <td>2019-05-21</td>\n",
       "      <td>0.38</td>\n",
       "      <td>2</td>\n",
       "      <td>355</td>\n",
       "    </tr>\n",
       "    <tr>\n",
       "      <th>2</th>\n",
       "      <td>3647</td>\n",
       "      <td>THE VILLAGE OF HARLEM....NEW YORK !</td>\n",
       "      <td>4632</td>\n",
       "      <td>Elisabeth</td>\n",
       "      <td>Manhattan</td>\n",
       "      <td>Harlem</td>\n",
       "      <td>40.80902</td>\n",
       "      <td>-73.94190</td>\n",
       "      <td>Private room</td>\n",
       "      <td>150</td>\n",
       "      <td>3</td>\n",
       "      <td>0</td>\n",
       "      <td>NaN</td>\n",
       "      <td>NaN</td>\n",
       "      <td>1</td>\n",
       "      <td>365</td>\n",
       "    </tr>\n",
       "    <tr>\n",
       "      <th>3</th>\n",
       "      <td>3831</td>\n",
       "      <td>Cozy Entire Floor of Brownstone</td>\n",
       "      <td>4869</td>\n",
       "      <td>LisaRoxanne</td>\n",
       "      <td>Brooklyn</td>\n",
       "      <td>Clinton Hill</td>\n",
       "      <td>40.68514</td>\n",
       "      <td>-73.95976</td>\n",
       "      <td>Entire home/apt</td>\n",
       "      <td>89</td>\n",
       "      <td>1</td>\n",
       "      <td>270</td>\n",
       "      <td>2019-07-05</td>\n",
       "      <td>4.64</td>\n",
       "      <td>1</td>\n",
       "      <td>194</td>\n",
       "    </tr>\n",
       "    <tr>\n",
       "      <th>4</th>\n",
       "      <td>5022</td>\n",
       "      <td>Entire Apt: Spacious Studio/Loft by central park</td>\n",
       "      <td>7192</td>\n",
       "      <td>Laura</td>\n",
       "      <td>Manhattan</td>\n",
       "      <td>East Harlem</td>\n",
       "      <td>40.79851</td>\n",
       "      <td>-73.94399</td>\n",
       "      <td>Entire home/apt</td>\n",
       "      <td>80</td>\n",
       "      <td>10</td>\n",
       "      <td>9</td>\n",
       "      <td>2018-11-19</td>\n",
       "      <td>0.10</td>\n",
       "      <td>1</td>\n",
       "      <td>0</td>\n",
       "    </tr>\n",
       "    <tr>\n",
       "      <th>...</th>\n",
       "      <td>...</td>\n",
       "      <td>...</td>\n",
       "      <td>...</td>\n",
       "      <td>...</td>\n",
       "      <td>...</td>\n",
       "      <td>...</td>\n",
       "      <td>...</td>\n",
       "      <td>...</td>\n",
       "      <td>...</td>\n",
       "      <td>...</td>\n",
       "      <td>...</td>\n",
       "      <td>...</td>\n",
       "      <td>...</td>\n",
       "      <td>...</td>\n",
       "      <td>...</td>\n",
       "      <td>...</td>\n",
       "    </tr>\n",
       "    <tr>\n",
       "      <th>48890</th>\n",
       "      <td>36484665</td>\n",
       "      <td>Charming one bedroom - newly renovated rowhouse</td>\n",
       "      <td>8232441</td>\n",
       "      <td>Sabrina</td>\n",
       "      <td>Brooklyn</td>\n",
       "      <td>Bedford-Stuyvesant</td>\n",
       "      <td>40.67853</td>\n",
       "      <td>-73.94995</td>\n",
       "      <td>Private room</td>\n",
       "      <td>70</td>\n",
       "      <td>2</td>\n",
       "      <td>0</td>\n",
       "      <td>NaN</td>\n",
       "      <td>NaN</td>\n",
       "      <td>2</td>\n",
       "      <td>9</td>\n",
       "    </tr>\n",
       "    <tr>\n",
       "      <th>48891</th>\n",
       "      <td>36485057</td>\n",
       "      <td>Affordable room in Bushwick/East Williamsburg</td>\n",
       "      <td>6570630</td>\n",
       "      <td>Marisol</td>\n",
       "      <td>Brooklyn</td>\n",
       "      <td>Bushwick</td>\n",
       "      <td>40.70184</td>\n",
       "      <td>-73.93317</td>\n",
       "      <td>Private room</td>\n",
       "      <td>40</td>\n",
       "      <td>4</td>\n",
       "      <td>0</td>\n",
       "      <td>NaN</td>\n",
       "      <td>NaN</td>\n",
       "      <td>2</td>\n",
       "      <td>36</td>\n",
       "    </tr>\n",
       "    <tr>\n",
       "      <th>48892</th>\n",
       "      <td>36485431</td>\n",
       "      <td>Sunny Studio at Historical Neighborhood</td>\n",
       "      <td>23492952</td>\n",
       "      <td>Ilgar &amp; Aysel</td>\n",
       "      <td>Manhattan</td>\n",
       "      <td>Harlem</td>\n",
       "      <td>40.81475</td>\n",
       "      <td>-73.94867</td>\n",
       "      <td>Entire home/apt</td>\n",
       "      <td>115</td>\n",
       "      <td>10</td>\n",
       "      <td>0</td>\n",
       "      <td>NaN</td>\n",
       "      <td>NaN</td>\n",
       "      <td>1</td>\n",
       "      <td>27</td>\n",
       "    </tr>\n",
       "    <tr>\n",
       "      <th>48893</th>\n",
       "      <td>36485609</td>\n",
       "      <td>43rd St. Time Square-cozy single bed</td>\n",
       "      <td>30985759</td>\n",
       "      <td>Taz</td>\n",
       "      <td>Manhattan</td>\n",
       "      <td>Hell's Kitchen</td>\n",
       "      <td>40.75751</td>\n",
       "      <td>-73.99112</td>\n",
       "      <td>Shared room</td>\n",
       "      <td>55</td>\n",
       "      <td>1</td>\n",
       "      <td>0</td>\n",
       "      <td>NaN</td>\n",
       "      <td>NaN</td>\n",
       "      <td>6</td>\n",
       "      <td>2</td>\n",
       "    </tr>\n",
       "    <tr>\n",
       "      <th>48894</th>\n",
       "      <td>36487245</td>\n",
       "      <td>Trendy duplex in the very heart of Hell's Kitchen</td>\n",
       "      <td>68119814</td>\n",
       "      <td>Christophe</td>\n",
       "      <td>Manhattan</td>\n",
       "      <td>Hell's Kitchen</td>\n",
       "      <td>40.76404</td>\n",
       "      <td>-73.98933</td>\n",
       "      <td>Private room</td>\n",
       "      <td>90</td>\n",
       "      <td>7</td>\n",
       "      <td>0</td>\n",
       "      <td>NaN</td>\n",
       "      <td>NaN</td>\n",
       "      <td>1</td>\n",
       "      <td>23</td>\n",
       "    </tr>\n",
       "  </tbody>\n",
       "</table>\n",
       "<p>48895 rows × 16 columns</p>\n",
       "</div>"
      ],
      "text/plain": [
       "             id                                               name   host_id  \\\n",
       "0          2539                 Clean & quiet apt home by the park      2787   \n",
       "1          2595                              Skylit Midtown Castle      2845   \n",
       "2          3647                THE VILLAGE OF HARLEM....NEW YORK !      4632   \n",
       "3          3831                    Cozy Entire Floor of Brownstone      4869   \n",
       "4          5022   Entire Apt: Spacious Studio/Loft by central park      7192   \n",
       "...         ...                                                ...       ...   \n",
       "48890  36484665    Charming one bedroom - newly renovated rowhouse   8232441   \n",
       "48891  36485057      Affordable room in Bushwick/East Williamsburg   6570630   \n",
       "48892  36485431            Sunny Studio at Historical Neighborhood  23492952   \n",
       "48893  36485609               43rd St. Time Square-cozy single bed  30985759   \n",
       "48894  36487245  Trendy duplex in the very heart of Hell's Kitchen  68119814   \n",
       "\n",
       "           host_name neighbourhood_group       neighbourhood  latitude  \\\n",
       "0               John            Brooklyn          Kensington  40.64749   \n",
       "1           Jennifer           Manhattan             Midtown  40.75362   \n",
       "2          Elisabeth           Manhattan              Harlem  40.80902   \n",
       "3        LisaRoxanne            Brooklyn        Clinton Hill  40.68514   \n",
       "4              Laura           Manhattan         East Harlem  40.79851   \n",
       "...              ...                 ...                 ...       ...   \n",
       "48890        Sabrina            Brooklyn  Bedford-Stuyvesant  40.67853   \n",
       "48891        Marisol            Brooklyn            Bushwick  40.70184   \n",
       "48892  Ilgar & Aysel           Manhattan              Harlem  40.81475   \n",
       "48893            Taz           Manhattan      Hell's Kitchen  40.75751   \n",
       "48894     Christophe           Manhattan      Hell's Kitchen  40.76404   \n",
       "\n",
       "       longitude        room_type  price  minimum_nights  number_of_reviews  \\\n",
       "0      -73.97237     Private room    149               1                  9   \n",
       "1      -73.98377  Entire home/apt    225               1                 45   \n",
       "2      -73.94190     Private room    150               3                  0   \n",
       "3      -73.95976  Entire home/apt     89               1                270   \n",
       "4      -73.94399  Entire home/apt     80              10                  9   \n",
       "...          ...              ...    ...             ...                ...   \n",
       "48890  -73.94995     Private room     70               2                  0   \n",
       "48891  -73.93317     Private room     40               4                  0   \n",
       "48892  -73.94867  Entire home/apt    115              10                  0   \n",
       "48893  -73.99112      Shared room     55               1                  0   \n",
       "48894  -73.98933     Private room     90               7                  0   \n",
       "\n",
       "      last_review  reviews_per_month  calculated_host_listings_count  \\\n",
       "0      2018-10-19               0.21                               6   \n",
       "1      2019-05-21               0.38                               2   \n",
       "2             NaN                NaN                               1   \n",
       "3      2019-07-05               4.64                               1   \n",
       "4      2018-11-19               0.10                               1   \n",
       "...           ...                ...                             ...   \n",
       "48890         NaN                NaN                               2   \n",
       "48891         NaN                NaN                               2   \n",
       "48892         NaN                NaN                               1   \n",
       "48893         NaN                NaN                               6   \n",
       "48894         NaN                NaN                               1   \n",
       "\n",
       "       availability_365  \n",
       "0                   365  \n",
       "1                   355  \n",
       "2                   365  \n",
       "3                   194  \n",
       "4                     0  \n",
       "...                 ...  \n",
       "48890                 9  \n",
       "48891                36  \n",
       "48892                27  \n",
       "48893                 2  \n",
       "48894                23  \n",
       "\n",
       "[48895 rows x 16 columns]"
      ]
     },
     "execution_count": 14,
     "metadata": {},
     "output_type": "execute_result"
    }
   ],
   "source": [
    "df = pd.read_csv('./AB_NYC_2019.csv')\n",
    "\n",
    "df"
   ]
  },
  {
   "cell_type": "code",
   "execution_count": 8,
   "id": "6d4c56a3",
   "metadata": {
    "execution": {
     "iopub.execute_input": "2024-07-23T06:34:01.230642Z",
     "iopub.status.busy": "2024-07-23T06:34:01.229911Z",
     "iopub.status.idle": "2024-07-23T06:34:01.235279Z",
     "shell.execute_reply": "2024-07-23T06:34:01.234297Z"
    },
    "papermill": {
     "duration": 0.021743,
     "end_time": "2024-07-23T06:34:01.238265",
     "exception": false,
     "start_time": "2024-07-23T06:34:01.216522",
     "status": "completed"
    },
    "tags": []
   },
   "outputs": [
    {
     "name": "stdout",
     "output_type": "stream",
     "text": [
      "Rows: 48895, Columns: 16\n"
     ]
    }
   ],
   "source": [
    "print(f\"Rows: {df.shape[0]}, Columns: {df.shape[1]}\")"
   ]
  },
  {
   "cell_type": "code",
   "execution_count": 9,
   "id": "e9c5c9d7",
   "metadata": {
    "execution": {
     "iopub.execute_input": "2024-07-23T06:34:01.265469Z",
     "iopub.status.busy": "2024-07-23T06:34:01.265105Z",
     "iopub.status.idle": "2024-07-23T06:34:01.296314Z",
     "shell.execute_reply": "2024-07-23T06:34:01.295277Z"
    },
    "papermill": {
     "duration": 0.047596,
     "end_time": "2024-07-23T06:34:01.298727",
     "exception": false,
     "start_time": "2024-07-23T06:34:01.251131",
     "status": "completed"
    },
    "tags": []
   },
   "outputs": [
    {
     "name": "stdout",
     "output_type": "stream",
     "text": [
      "id                                    0\n",
      "name                                 16\n",
      "host_id                               0\n",
      "host_name                            21\n",
      "neighbourhood_group                   0\n",
      "neighbourhood                         0\n",
      "latitude                              0\n",
      "longitude                             0\n",
      "room_type                             0\n",
      "price                                 0\n",
      "minimum_nights                        0\n",
      "number_of_reviews                     0\n",
      "last_review                       10052\n",
      "reviews_per_month                 10052\n",
      "calculated_host_listings_count        0\n",
      "availability_365                      0\n",
      "dtype: int64\n"
     ]
    }
   ],
   "source": [
    "print(df.isnull().sum())"
   ]
  },
  {
   "cell_type": "markdown",
   "id": "8bbafd87",
   "metadata": {},
   "source": [
    "name has null values  last review has and so reviies per month"
   ]
  },
  {
   "cell_type": "code",
   "execution_count": 15,
   "id": "a7ef0a5b",
   "metadata": {
    "execution": {
     "iopub.execute_input": "2024-07-23T06:34:01.318188Z",
     "iopub.status.busy": "2024-07-23T06:34:01.317218Z",
     "iopub.status.idle": "2024-07-23T06:34:01.323559Z",
     "shell.execute_reply": "2024-07-23T06:34:01.322377Z"
    },
    "papermill": {
     "duration": 0.018353,
     "end_time": "2024-07-23T06:34:01.325762",
     "exception": false,
     "start_time": "2024-07-23T06:34:01.307409",
     "status": "completed"
    },
    "tags": []
   },
   "outputs": [
    {
     "name": "stdout",
     "output_type": "stream",
     "text": [
      "Number of rows: 48895\n",
      "Number of columns: 16\n"
     ]
    }
   ],
   "source": [
    "print(f\"Number of rows: {df.shape[0]}\")\n",
    "print(f\"Number of columns: {df.shape[1]}\")"
   ]
  },
  {
   "cell_type": "code",
   "execution_count": 18,
   "id": "727ec14a",
   "metadata": {
    "execution": {
     "iopub.execute_input": "2024-07-23T06:34:01.346363Z",
     "iopub.status.busy": "2024-07-23T06:34:01.345350Z",
     "iopub.status.idle": "2024-07-23T06:34:01.395379Z",
     "shell.execute_reply": "2024-07-23T06:34:01.394352Z"
    },
    "papermill": {
     "duration": 0.062513,
     "end_time": "2024-07-23T06:34:01.397817",
     "exception": false,
     "start_time": "2024-07-23T06:34:01.335304",
     "status": "completed"
    },
    "tags": []
   },
   "outputs": [],
   "source": [
    "df.replace([np.inf, -np.inf], np.nan, inplace=True)"
   ]
  },
  {
   "cell_type": "code",
   "execution_count": 19,
   "id": "4bbb0cef",
   "metadata": {
    "execution": {
     "iopub.execute_input": "2024-07-23T06:34:01.416628Z",
     "iopub.status.busy": "2024-07-23T06:34:01.416271Z",
     "iopub.status.idle": "2024-07-23T06:34:01.466815Z",
     "shell.execute_reply": "2024-07-23T06:34:01.465294Z"
    },
    "papermill": {
     "duration": 0.062737,
     "end_time": "2024-07-23T06:34:01.469283",
     "exception": false,
     "start_time": "2024-07-23T06:34:01.406546",
     "status": "completed"
    },
    "tags": []
   },
   "outputs": [
    {
     "name": "stdout",
     "output_type": "stream",
     "text": [
      "<class 'pandas.core.frame.DataFrame'>\n",
      "RangeIndex: 48895 entries, 0 to 48894\n",
      "Data columns (total 16 columns):\n",
      " #   Column                          Non-Null Count  Dtype  \n",
      "---  ------                          --------------  -----  \n",
      " 0   id                              48895 non-null  int64  \n",
      " 1   name                            48879 non-null  object \n",
      " 2   host_id                         48895 non-null  int64  \n",
      " 3   host_name                       48874 non-null  object \n",
      " 4   neighbourhood_group             48895 non-null  object \n",
      " 5   neighbourhood                   48895 non-null  object \n",
      " 6   latitude                        48895 non-null  float64\n",
      " 7   longitude                       48895 non-null  float64\n",
      " 8   room_type                       48895 non-null  object \n",
      " 9   price                           48895 non-null  int64  \n",
      " 10  minimum_nights                  48895 non-null  int64  \n",
      " 11  number_of_reviews               48895 non-null  int64  \n",
      " 12  last_review                     38843 non-null  object \n",
      " 13  reviews_per_month               38843 non-null  float64\n",
      " 14  calculated_host_listings_count  48895 non-null  int64  \n",
      " 15  availability_365                48895 non-null  int64  \n",
      "dtypes: float64(3), int64(7), object(6)\n",
      "memory usage: 6.0+ MB\n"
     ]
    }
   ],
   "source": [
    "df.info()"
   ]
  },
  {
   "cell_type": "code",
   "execution_count": 20,
   "id": "a1ce4396",
   "metadata": {
    "execution": {
     "iopub.execute_input": "2024-07-23T06:34:01.488433Z",
     "iopub.status.busy": "2024-07-23T06:34:01.487958Z",
     "iopub.status.idle": "2024-07-23T06:34:01.561396Z",
     "shell.execute_reply": "2024-07-23T06:34:01.560213Z"
    },
    "papermill": {
     "duration": 0.085684,
     "end_time": "2024-07-23T06:34:01.563708",
     "exception": false,
     "start_time": "2024-07-23T06:34:01.478024",
     "status": "completed"
    },
    "tags": []
   },
   "outputs": [
    {
     "data": {
      "text/html": [
       "<div>\n",
       "<style scoped>\n",
       "    .dataframe tbody tr th:only-of-type {\n",
       "        vertical-align: middle;\n",
       "    }\n",
       "\n",
       "    .dataframe tbody tr th {\n",
       "        vertical-align: top;\n",
       "    }\n",
       "\n",
       "    .dataframe thead th {\n",
       "        text-align: right;\n",
       "    }\n",
       "</style>\n",
       "<table border=\"1\" class=\"dataframe\">\n",
       "  <thead>\n",
       "    <tr style=\"text-align: right;\">\n",
       "      <th></th>\n",
       "      <th>id</th>\n",
       "      <th>host_id</th>\n",
       "      <th>latitude</th>\n",
       "      <th>longitude</th>\n",
       "      <th>price</th>\n",
       "      <th>minimum_nights</th>\n",
       "      <th>number_of_reviews</th>\n",
       "      <th>reviews_per_month</th>\n",
       "      <th>calculated_host_listings_count</th>\n",
       "      <th>availability_365</th>\n",
       "    </tr>\n",
       "  </thead>\n",
       "  <tbody>\n",
       "    <tr>\n",
       "      <th>count</th>\n",
       "      <td>4.889500e+04</td>\n",
       "      <td>4.889500e+04</td>\n",
       "      <td>48895.000000</td>\n",
       "      <td>48895.000000</td>\n",
       "      <td>48895.000000</td>\n",
       "      <td>48895.000000</td>\n",
       "      <td>48895.000000</td>\n",
       "      <td>38843.000000</td>\n",
       "      <td>48895.000000</td>\n",
       "      <td>48895.000000</td>\n",
       "    </tr>\n",
       "    <tr>\n",
       "      <th>mean</th>\n",
       "      <td>1.901714e+07</td>\n",
       "      <td>6.762001e+07</td>\n",
       "      <td>40.728949</td>\n",
       "      <td>-73.952170</td>\n",
       "      <td>152.720687</td>\n",
       "      <td>7.029962</td>\n",
       "      <td>23.274466</td>\n",
       "      <td>1.373221</td>\n",
       "      <td>7.143982</td>\n",
       "      <td>112.781327</td>\n",
       "    </tr>\n",
       "    <tr>\n",
       "      <th>std</th>\n",
       "      <td>1.098311e+07</td>\n",
       "      <td>7.861097e+07</td>\n",
       "      <td>0.054530</td>\n",
       "      <td>0.046157</td>\n",
       "      <td>240.154170</td>\n",
       "      <td>20.510550</td>\n",
       "      <td>44.550582</td>\n",
       "      <td>1.680442</td>\n",
       "      <td>32.952519</td>\n",
       "      <td>131.622289</td>\n",
       "    </tr>\n",
       "    <tr>\n",
       "      <th>min</th>\n",
       "      <td>2.539000e+03</td>\n",
       "      <td>2.438000e+03</td>\n",
       "      <td>40.499790</td>\n",
       "      <td>-74.244420</td>\n",
       "      <td>0.000000</td>\n",
       "      <td>1.000000</td>\n",
       "      <td>0.000000</td>\n",
       "      <td>0.010000</td>\n",
       "      <td>1.000000</td>\n",
       "      <td>0.000000</td>\n",
       "    </tr>\n",
       "    <tr>\n",
       "      <th>25%</th>\n",
       "      <td>9.471945e+06</td>\n",
       "      <td>7.822033e+06</td>\n",
       "      <td>40.690100</td>\n",
       "      <td>-73.983070</td>\n",
       "      <td>69.000000</td>\n",
       "      <td>1.000000</td>\n",
       "      <td>1.000000</td>\n",
       "      <td>0.190000</td>\n",
       "      <td>1.000000</td>\n",
       "      <td>0.000000</td>\n",
       "    </tr>\n",
       "    <tr>\n",
       "      <th>50%</th>\n",
       "      <td>1.967728e+07</td>\n",
       "      <td>3.079382e+07</td>\n",
       "      <td>40.723070</td>\n",
       "      <td>-73.955680</td>\n",
       "      <td>106.000000</td>\n",
       "      <td>3.000000</td>\n",
       "      <td>5.000000</td>\n",
       "      <td>0.720000</td>\n",
       "      <td>1.000000</td>\n",
       "      <td>45.000000</td>\n",
       "    </tr>\n",
       "    <tr>\n",
       "      <th>75%</th>\n",
       "      <td>2.915218e+07</td>\n",
       "      <td>1.074344e+08</td>\n",
       "      <td>40.763115</td>\n",
       "      <td>-73.936275</td>\n",
       "      <td>175.000000</td>\n",
       "      <td>5.000000</td>\n",
       "      <td>24.000000</td>\n",
       "      <td>2.020000</td>\n",
       "      <td>2.000000</td>\n",
       "      <td>227.000000</td>\n",
       "    </tr>\n",
       "    <tr>\n",
       "      <th>max</th>\n",
       "      <td>3.648724e+07</td>\n",
       "      <td>2.743213e+08</td>\n",
       "      <td>40.913060</td>\n",
       "      <td>-73.712990</td>\n",
       "      <td>10000.000000</td>\n",
       "      <td>1250.000000</td>\n",
       "      <td>629.000000</td>\n",
       "      <td>58.500000</td>\n",
       "      <td>327.000000</td>\n",
       "      <td>365.000000</td>\n",
       "    </tr>\n",
       "  </tbody>\n",
       "</table>\n",
       "</div>"
      ],
      "text/plain": [
       "                 id       host_id      latitude     longitude         price  \\\n",
       "count  4.889500e+04  4.889500e+04  48895.000000  48895.000000  48895.000000   \n",
       "mean   1.901714e+07  6.762001e+07     40.728949    -73.952170    152.720687   \n",
       "std    1.098311e+07  7.861097e+07      0.054530      0.046157    240.154170   \n",
       "min    2.539000e+03  2.438000e+03     40.499790    -74.244420      0.000000   \n",
       "25%    9.471945e+06  7.822033e+06     40.690100    -73.983070     69.000000   \n",
       "50%    1.967728e+07  3.079382e+07     40.723070    -73.955680    106.000000   \n",
       "75%    2.915218e+07  1.074344e+08     40.763115    -73.936275    175.000000   \n",
       "max    3.648724e+07  2.743213e+08     40.913060    -73.712990  10000.000000   \n",
       "\n",
       "       minimum_nights  number_of_reviews  reviews_per_month  \\\n",
       "count    48895.000000       48895.000000       38843.000000   \n",
       "mean         7.029962          23.274466           1.373221   \n",
       "std         20.510550          44.550582           1.680442   \n",
       "min          1.000000           0.000000           0.010000   \n",
       "25%          1.000000           1.000000           0.190000   \n",
       "50%          3.000000           5.000000           0.720000   \n",
       "75%          5.000000          24.000000           2.020000   \n",
       "max       1250.000000         629.000000          58.500000   \n",
       "\n",
       "       calculated_host_listings_count  availability_365  \n",
       "count                    48895.000000      48895.000000  \n",
       "mean                         7.143982        112.781327  \n",
       "std                         32.952519        131.622289  \n",
       "min                          1.000000          0.000000  \n",
       "25%                          1.000000          0.000000  \n",
       "50%                          1.000000         45.000000  \n",
       "75%                          2.000000        227.000000  \n",
       "max                        327.000000        365.000000  "
      ]
     },
     "execution_count": 20,
     "metadata": {},
     "output_type": "execute_result"
    }
   ],
   "source": [
    "df.describe()"
   ]
  },
  {
   "cell_type": "code",
   "execution_count": 22,
   "id": "d5c3dacb",
   "metadata": {
    "execution": {
     "iopub.execute_input": "2024-07-23T06:34:01.584025Z",
     "iopub.status.busy": "2024-07-23T06:34:01.583154Z",
     "iopub.status.idle": "2024-07-23T06:34:01.612874Z",
     "shell.execute_reply": "2024-07-23T06:34:01.611841Z"
    },
    "papermill": {
     "duration": 0.043223,
     "end_time": "2024-07-23T06:34:01.615935",
     "exception": false,
     "start_time": "2024-07-23T06:34:01.572712",
     "status": "completed"
    },
    "tags": []
   },
   "outputs": [],
   "source": [
    "df.fillna({'reviews_per_month': 0}, inplace=True)\n",
    "df.dropna(subset=['name', 'host_name'], inplace=True)"
   ]
  },
  {
   "cell_type": "code",
   "execution_count": 23,
   "id": "1fc68167",
   "metadata": {
    "execution": {
     "iopub.execute_input": "2024-07-23T06:34:01.641456Z",
     "iopub.status.busy": "2024-07-23T06:34:01.640798Z",
     "iopub.status.idle": "2024-07-23T06:34:01.667293Z",
     "shell.execute_reply": "2024-07-23T06:34:01.666165Z"
    },
    "papermill": {
     "duration": 0.042959,
     "end_time": "2024-07-23T06:34:01.669557",
     "exception": false,
     "start_time": "2024-07-23T06:34:01.626598",
     "status": "completed"
    },
    "tags": []
   },
   "outputs": [
    {
     "name": "stdout",
     "output_type": "stream",
     "text": [
      "last_review    10037\n",
      "dtype: int64\n"
     ]
    }
   ],
   "source": [
    "missing_values = df.isnull().sum()\n",
    "print(missing_values[missing_values > 0])"
   ]
  },
  {
   "cell_type": "code",
   "execution_count": 24,
   "id": "17776e2b",
   "metadata": {
    "execution": {
     "iopub.execute_input": "2024-07-23T06:34:01.689646Z",
     "iopub.status.busy": "2024-07-23T06:34:01.688869Z",
     "iopub.status.idle": "2024-07-23T06:34:01.714586Z",
     "shell.execute_reply": "2024-07-23T06:34:01.713619Z"
    },
    "papermill": {
     "duration": 0.038737,
     "end_time": "2024-07-23T06:34:01.717415",
     "exception": false,
     "start_time": "2024-07-23T06:34:01.678678",
     "status": "completed"
    },
    "tags": []
   },
   "outputs": [],
   "source": [
    "df = df.dropna()"
   ]
  },
  {
   "cell_type": "code",
   "execution_count": null,
   "id": "c47f3989",
   "metadata": {
    "execution": {
     "iopub.execute_input": "2024-07-23T06:34:01.737711Z",
     "iopub.status.busy": "2024-07-23T06:34:01.737268Z",
     "iopub.status.idle": "2024-07-23T06:34:01.762351Z",
     "shell.execute_reply": "2024-07-23T06:34:01.760779Z"
    },
    "papermill": {
     "duration": 0.037678,
     "end_time": "2024-07-23T06:34:01.764418",
     "exception": false,
     "start_time": "2024-07-23T06:34:01.726740",
     "status": "completed"
    },
    "tags": []
   },
   "outputs": [],
   "source": [
    "print(df.isnull().sum())"
   ]
  },
  {
   "cell_type": "code",
   "execution_count": null,
   "id": "c1991fec",
   "metadata": {
    "execution": {
     "iopub.execute_input": "2024-07-23T06:34:01.784115Z",
     "iopub.status.busy": "2024-07-23T06:34:01.783741Z",
     "iopub.status.idle": "2024-07-23T06:34:01.843847Z",
     "shell.execute_reply": "2024-07-23T06:34:01.842898Z"
    },
    "papermill": {
     "duration": 0.07419,
     "end_time": "2024-07-23T06:34:01.847718",
     "exception": false,
     "start_time": "2024-07-23T06:34:01.773528",
     "status": "completed"
    },
    "tags": []
   },
   "outputs": [],
   "source": [
    "df.replace([np.inf, -np.inf], np.nan, inplace=True)\n",
    "df.fillna({'reviews_per_month': 0}, inplace=True)\n",
    "df.dropna(subset=['name', 'host_name'], inplace=True)"
   ]
  },
  {
   "cell_type": "markdown",
   "id": "ebe46e0c",
   "metadata": {
    "papermill": {
     "duration": 0.008775,
     "end_time": "2024-07-23T06:34:01.870834",
     "exception": false,
     "start_time": "2024-07-23T06:34:01.862059",
     "status": "completed"
    },
    "tags": []
   },
   "source": [
    "# Exploratory analysis & visualization"
   ]
  },
  {
   "cell_type": "code",
   "execution_count": null,
   "id": "57604ecb",
   "metadata": {
    "execution": {
     "iopub.execute_input": "2024-07-23T06:34:01.890690Z",
     "iopub.status.busy": "2024-07-23T06:34:01.890330Z",
     "iopub.status.idle": "2024-07-23T06:34:01.934427Z",
     "shell.execute_reply": "2024-07-23T06:34:01.933283Z"
    },
    "papermill": {
     "duration": 0.056902,
     "end_time": "2024-07-23T06:34:01.936872",
     "exception": false,
     "start_time": "2024-07-23T06:34:01.879970",
     "status": "completed"
    },
    "tags": []
   },
   "outputs": [],
   "source": [
    "basic_stats = df.describe()\n",
    "print(basic_stats)\n",
    "\n",
    "range_stats = df.max(numeric_only=True) - df.min(numeric_only=True)\n",
    "print(\"Range of numeric columns:\")\n",
    "print(range_stats)"
   ]
  },
  {
   "cell_type": "code",
   "execution_count": null,
   "id": "32e76244",
   "metadata": {
    "execution": {
     "iopub.execute_input": "2024-07-23T06:34:01.956869Z",
     "iopub.status.busy": "2024-07-23T06:34:01.956512Z",
     "iopub.status.idle": "2024-07-23T06:34:02.003261Z",
     "shell.execute_reply": "2024-07-23T06:34:02.001962Z"
    },
    "papermill": {
     "duration": 0.059389,
     "end_time": "2024-07-23T06:34:02.005566",
     "exception": false,
     "start_time": "2024-07-23T06:34:01.946177",
     "status": "completed"
    },
    "tags": []
   },
   "outputs": [],
   "source": [
    "df.describe()"
   ]
  },
  {
   "cell_type": "code",
   "execution_count": null,
   "id": "806bd6a6",
   "metadata": {
    "execution": {
     "iopub.execute_input": "2024-07-23T06:34:02.025912Z",
     "iopub.status.busy": "2024-07-23T06:34:02.025570Z",
     "iopub.status.idle": "2024-07-23T06:34:02.732458Z",
     "shell.execute_reply": "2024-07-23T06:34:02.731462Z"
    },
    "papermill": {
     "duration": 0.719724,
     "end_time": "2024-07-23T06:34:02.734778",
     "exception": false,
     "start_time": "2024-07-23T06:34:02.015054",
     "status": "completed"
    },
    "tags": []
   },
   "outputs": [],
   "source": [
    "plt.figure(figsize=(10, 6))\n",
    "sns.histplot(df['price'], bins=50, kde=True)\n",
    "plt.title('Distribution of Price')\n",
    "plt.xlabel('Price')\n",
    "plt.ylabel('Frequency')\n",
    "plt.show()"
   ]
  },
  {
   "cell_type": "code",
   "execution_count": null,
   "id": "1941d0b8",
   "metadata": {
    "execution": {
     "iopub.execute_input": "2024-07-23T06:34:02.756559Z",
     "iopub.status.busy": "2024-07-23T06:34:02.756184Z",
     "iopub.status.idle": "2024-07-23T06:34:03.116247Z",
     "shell.execute_reply": "2024-07-23T06:34:03.115220Z"
    },
    "papermill": {
     "duration": 0.37387,
     "end_time": "2024-07-23T06:34:03.118822",
     "exception": false,
     "start_time": "2024-07-23T06:34:02.744952",
     "status": "completed"
    },
    "tags": []
   },
   "outputs": [],
   "source": [
    "plt.figure(figsize=(10, 6))\n",
    "sns.scatterplot(x='number_of_reviews', y='price', data=df)\n",
    "plt.title('Price vs. Number of Reviews')\n",
    "plt.xlabel('Number of Reviews')\n",
    "plt.ylabel('Price')\n",
    "plt.show()"
   ]
  },
  {
   "cell_type": "code",
   "execution_count": null,
   "id": "54bb6e8c",
   "metadata": {
    "execution": {
     "iopub.execute_input": "2024-07-23T06:34:03.142694Z",
     "iopub.status.busy": "2024-07-23T06:34:03.141733Z",
     "iopub.status.idle": "2024-07-23T06:34:03.392796Z",
     "shell.execute_reply": "2024-07-23T06:34:03.391760Z"
    },
    "papermill": {
     "duration": 0.265606,
     "end_time": "2024-07-23T06:34:03.395399",
     "exception": false,
     "start_time": "2024-07-23T06:34:03.129793",
     "status": "completed"
    },
    "tags": []
   },
   "outputs": [],
   "source": [
    "room_type_avg_price = df.groupby('room_type')['price'].mean().reset_index()\n",
    "\n",
    "plt.figure(figsize=(10, 6))\n",
    "sns.barplot(x='room_type', y='price', data=room_type_avg_price)\n",
    "plt.title('Average Price by Room Type')\n",
    "plt.xlabel('Room Type')\n",
    "plt.ylabel('Average Price')\n",
    "plt.show()"
   ]
  },
  {
   "cell_type": "markdown",
   "id": "c8495805",
   "metadata": {
    "papermill": {
     "duration": 0.010919,
     "end_time": "2024-07-23T06:34:03.418274",
     "exception": false,
     "start_time": "2024-07-23T06:34:03.407355",
     "status": "completed"
    },
    "tags": []
   },
   "source": [
    "# Questions & Answers"
   ]
  },
  {
   "cell_type": "markdown",
   "id": "cbccbe0c",
   "metadata": {
    "papermill": {
     "duration": 0.011035,
     "end_time": "2024-07-23T06:34:03.440672",
     "exception": false,
     "start_time": "2024-07-23T06:34:03.429637",
     "status": "completed"
    },
    "tags": []
   },
   "source": [
    "What is the average price of Airbnb listings in different neighborhoods?"
   ]
  },
  {
   "cell_type": "code",
   "execution_count": null,
   "id": "fc5b68b5",
   "metadata": {
    "execution": {
     "iopub.execute_input": "2024-07-23T06:34:03.465708Z",
     "iopub.status.busy": "2024-07-23T06:34:03.465331Z",
     "iopub.status.idle": "2024-07-23T06:34:03.715116Z",
     "shell.execute_reply": "2024-07-23T06:34:03.714097Z"
    },
    "papermill": {
     "duration": 0.264706,
     "end_time": "2024-07-23T06:34:03.717544",
     "exception": false,
     "start_time": "2024-07-23T06:34:03.452838",
     "status": "completed"
    },
    "tags": []
   },
   "outputs": [],
   "source": [
    "neighborhood_price = df.groupby('neighbourhood_group')['price'].mean().reset_index()\n",
    "neighborhood_price.sort_values(by='price', ascending=False, inplace=True)\n",
    "\n",
    "plt.figure(figsize=(10, 6))\n",
    "sns.barplot(x='price', y='neighbourhood_group', data=neighborhood_price)\n",
    "plt.title('Average Price by Neighborhood Group')\n",
    "plt.xlabel('Average Price')\n",
    "plt.ylabel('Neighborhood Group')\n",
    "plt.show()\n"
   ]
  },
  {
   "cell_type": "markdown",
   "id": "de43941f",
   "metadata": {
    "papermill": {
     "duration": 0.011966,
     "end_time": "2024-07-23T06:34:03.741876",
     "exception": false,
     "start_time": "2024-07-23T06:34:03.729910",
     "status": "completed"
    },
    "tags": []
   },
   "source": [
    "Which room type is the most common?"
   ]
  },
  {
   "cell_type": "code",
   "execution_count": null,
   "id": "879984f5",
   "metadata": {
    "execution": {
     "iopub.execute_input": "2024-07-23T06:34:03.768488Z",
     "iopub.status.busy": "2024-07-23T06:34:03.768101Z",
     "iopub.status.idle": "2024-07-23T06:34:04.007442Z",
     "shell.execute_reply": "2024-07-23T06:34:04.006396Z"
    },
    "papermill": {
     "duration": 0.2555,
     "end_time": "2024-07-23T06:34:04.009584",
     "exception": false,
     "start_time": "2024-07-23T06:34:03.754084",
     "status": "completed"
    },
    "tags": []
   },
   "outputs": [],
   "source": [
    "room_type_count = df['room_type'].value_counts().reset_index()\n",
    "room_type_count.columns = ['room_type', 'count']\n",
    "\n",
    "plt.figure(figsize=(10, 6))\n",
    "sns.barplot(x='count', y='room_type', data=room_type_count)\n",
    "plt.title('Count of Room Types')\n",
    "plt.xlabel('Count')\n",
    "plt.ylabel('Room Type')\n",
    "plt.show()\n"
   ]
  },
  {
   "cell_type": "markdown",
   "id": "156c0b10",
   "metadata": {
    "papermill": {
     "duration": 0.012085,
     "end_time": "2024-07-23T06:34:04.033869",
     "exception": false,
     "start_time": "2024-07-23T06:34:04.021784",
     "status": "completed"
    },
    "tags": []
   },
   "source": [
    "What is the average number of reviews per month for each neighborhood?"
   ]
  },
  {
   "cell_type": "code",
   "execution_count": null,
   "id": "40a11f08",
   "metadata": {
    "execution": {
     "iopub.execute_input": "2024-07-23T06:34:04.059866Z",
     "iopub.status.busy": "2024-07-23T06:34:04.059518Z",
     "iopub.status.idle": "2024-07-23T06:34:04.286133Z",
     "shell.execute_reply": "2024-07-23T06:34:04.284893Z"
    },
    "papermill": {
     "duration": 0.242626,
     "end_time": "2024-07-23T06:34:04.288605",
     "exception": false,
     "start_time": "2024-07-23T06:34:04.045979",
     "status": "completed"
    },
    "tags": []
   },
   "outputs": [],
   "source": [
    "# Average reviews per month per neighborhood\n",
    "neighborhood_reviews = df.groupby('neighbourhood_group')['reviews_per_month'].mean().reset_index()\n",
    "neighborhood_reviews.sort_values(by='reviews_per_month', ascending=False, inplace=True)\n",
    "\n",
    "plt.figure(figsize=(10, 6))\n",
    "sns.barplot(x='reviews_per_month', y='neighbourhood_group', data=neighborhood_reviews)\n",
    "plt.title('Average Reviews per Month by Neighborhood Group')\n",
    "plt.xlabel('Average Reviews per Month')\n",
    "plt.ylabel('Neighborhood Group')\n",
    "plt.show()\n"
   ]
  },
  {
   "cell_type": "markdown",
   "id": "51f07e83",
   "metadata": {
    "papermill": {
     "duration": 0.012595,
     "end_time": "2024-07-23T06:34:04.314306",
     "exception": false,
     "start_time": "2024-07-23T06:34:04.301711",
     "status": "completed"
    },
    "tags": []
   },
   "source": [
    "How does the type of room affect the price?"
   ]
  },
  {
   "cell_type": "code",
   "execution_count": null,
   "id": "5f130fa9",
   "metadata": {
    "execution": {
     "iopub.execute_input": "2024-07-23T06:34:04.342003Z",
     "iopub.status.busy": "2024-07-23T06:34:04.341192Z",
     "iopub.status.idle": "2024-07-23T06:34:04.542457Z",
     "shell.execute_reply": "2024-07-23T06:34:04.541424Z"
    },
    "papermill": {
     "duration": 0.217508,
     "end_time": "2024-07-23T06:34:04.544579",
     "exception": false,
     "start_time": "2024-07-23T06:34:04.327071",
     "status": "completed"
    },
    "tags": []
   },
   "outputs": [],
   "source": [
    "room_type_avg_price = df.groupby('room_type')['price'].mean().reset_index()\n",
    "\n",
    "plt.figure(figsize=(10, 5))\n",
    "sns.barplot(x='room_type', y='price', data=room_type_avg_price)\n",
    "plt.title('Average Price by Room Type')\n",
    "plt.xlabel('Room Type')\n",
    "plt.ylabel('Average Price')\n",
    "plt.show()"
   ]
  },
  {
   "cell_type": "markdown",
   "id": "eeda68ff",
   "metadata": {
    "papermill": {
     "duration": 0.01284,
     "end_time": "2024-07-23T06:34:04.570574",
     "exception": false,
     "start_time": "2024-07-23T06:34:04.557734",
     "status": "completed"
    },
    "tags": []
   },
   "source": [
    "Which neighborhoods have the highest and lowest number of listings?"
   ]
  },
  {
   "cell_type": "code",
   "execution_count": null,
   "id": "3d74a376",
   "metadata": {
    "execution": {
     "iopub.execute_input": "2024-07-23T06:34:04.598750Z",
     "iopub.status.busy": "2024-07-23T06:34:04.597996Z",
     "iopub.status.idle": "2024-07-23T06:34:04.892510Z",
     "shell.execute_reply": "2024-07-23T06:34:04.891382Z"
    },
    "papermill": {
     "duration": 0.311205,
     "end_time": "2024-07-23T06:34:04.894961",
     "exception": false,
     "start_time": "2024-07-23T06:34:04.583756",
     "status": "completed"
    },
    "tags": []
   },
   "outputs": [],
   "source": [
    "neighborhood_count = df['neighbourhood'].value_counts().reset_index()\n",
    "neighborhood_count.columns = ['neighbourhood', 'listing_count']\n",
    "\n",
    "top_neighborhoods = neighborhood_count.head(10)\n",
    "\n",
    "plt.figure(figsize=(14, 7))\n",
    "sns.barplot(x='listing_count', y='neighbourhood', data=top_neighborhoods)\n",
    "plt.title('Top 10 Neighborhoods with Most Listings')\n",
    "plt.xlabel('Number of Listings')\n",
    "plt.ylabel('Neighborhood')\n",
    "plt.show()"
   ]
  },
  {
   "cell_type": "markdown",
   "id": "cd692448",
   "metadata": {
    "papermill": {
     "duration": 0.013605,
     "end_time": "2024-07-23T06:34:04.923076",
     "exception": false,
     "start_time": "2024-07-23T06:34:04.909471",
     "status": "completed"
    },
    "tags": []
   },
   "source": [
    "# Summary of Inferences"
   ]
  },
  {
   "cell_type": "markdown",
   "id": "f76b38c3",
   "metadata": {
    "papermill": {
     "duration": 0.013368,
     "end_time": "2024-07-23T06:34:04.950602",
     "exception": false,
     "start_time": "2024-07-23T06:34:04.937234",
     "status": "completed"
    },
    "tags": []
   },
   "source": [
    "### Basic Statistics:\n",
    "\n",
    "The dataset comprises various columns including price, number_of_reviews, reviews_per_month, availability_365, etc.\n",
    "Basic statistics reveal that the average price of an Airbnb listing in NYC is around $152.72  with a standard deviation of $240.15. The minimum price is $0 and the maximum is $10,000, indicating a wide range of listing prices.\n",
    "\n",
    "### Distribution of Price:\n",
    "\n",
    "The distribution of prices is right-skewed, with the majority of listings priced under $500 per night A few high-end listings skew the distribution, resulting in a long tail on the right side\n",
    "\n",
    "### Price vs Number of Reviews:\n",
    "\n",
    "The scatter plot shows no strong correlation between the number of reviews and the price of a listing. However, it appears that more expensive listings tend to have fewer reviews, which might indicate that higher-priced listings are less frequently booked.\n",
    "\n",
    "### Average Price by Neighborhood Group:\n",
    "\n",
    "Manhattan has the highest average listing price among all neighborhood groups, followed by Brooklyn. Queens, Staten Island, and the Bronx have significantly lower average prices.\n",
    "This suggests that listings in Manhattan and Brooklyn are generally more expensive, possibly due to higher demand and more central locations.\n",
    "\n",
    "### Room Type Distribution:\n",
    "\n",
    "Entire home/apartment is the most common room type, followed by private room. Shared room and hotel room types are relatively rare.\n",
    "This distribution indicates a preference among Airbnb hosts to rent out entire properties rather than just individual rooms.\n",
    "\n",
    "### Average Reviews per Month by Neighborhood Group:\n",
    "\n",
    "Listings in the Bronx and Staten Island receive more reviews per month on average compared to other neighborhoods. Manhattan and Brooklyn, despite having higher listing prices, do not receive as many reviews per month.\n",
    "This could imply that lower-priced listings in less expensive neighborhoods are more frequently booked, leading to more reviews.\n",
    "### Availability Distribution:\n",
    "\n",
    "The majority of listings are available for most of the year, with a significant number of listings having an availability of 365 days.\n",
    "This suggests that many hosts keep their listings available year-round, possibly aiming to maximize their occupancy and rental income."
   ]
  },
  {
   "cell_type": "markdown",
   "id": "37f3902f",
   "metadata": {
    "papermill": {
     "duration": 0.013463,
     "end_time": "2024-07-23T06:34:04.978235",
     "exception": false,
     "start_time": "2024-07-23T06:34:04.964772",
     "status": "completed"
    },
    "tags": []
   },
   "source": [
    "# Conclusion"
   ]
  },
  {
   "cell_type": "markdown",
   "id": "ce7ed273",
   "metadata": {
    "papermill": {
     "duration": 0.013585,
     "end_time": "2024-07-23T06:34:05.006372",
     "exception": false,
     "start_time": "2024-07-23T06:34:04.992787",
     "status": "completed"
    },
    "tags": []
   },
   "source": [
    "The exploratory data analysis of the New York City Airbnb Open Data provides several insights into the characteristics and trends of Airbnb listings in NYC:\n",
    "\n",
    "### Price Variability:\n",
    "\n",
    "There is significant variability in listing prices, with a few high-end listings driving up the average. Most listings, however, are priced more affordably, catering to a wider audience.\n",
    "\n",
    "### Neighborhood Trends:\n",
    "\n",
    "Manhattan and Brooklyn are the most expensive neighborhoods for Airbnb listings, reflecting their popularity and central locations. In contrast, the Bronx, Queens, and Staten Island offer more affordable options, which may attract budget-conscious travelers.\n",
    "\n",
    "### Room Type Preferences:\n",
    "\n",
    "Entire home/apartment listings dominate the market, suggesting that both hosts and guests prefer more private accommodations. Private rooms also have a substantial presence, catering to solo travelers or those on a budget.\n",
    "\n",
    "### Booking Frequency:\n",
    "\n",
    "Listings in lower-priced neighborhoods like the Bronx and Staten Island tend to receive more frequent reviews, indicating higher booking rates. This could be due to their affordability and appeal to a broader range of travelers.\n",
    "\n",
    "### Year-Round Availability:\n",
    "\n",
    "Many listings are available year-round, indicating that hosts are keen to maximize their rental opportunities. This could also suggest a competitive market where hosts aim to attract guests consistently.\n"
   ]
  },
  {
   "cell_type": "markdown",
   "id": "07be9ca0",
   "metadata": {
    "papermill": {
     "duration": 0.013401,
     "end_time": "2024-07-23T06:34:05.033674",
     "exception": false,
     "start_time": "2024-07-23T06:34:05.020273",
     "status": "completed"
    },
    "tags": []
   },
   "source": [
    "# Future Work"
   ]
  },
  {
   "cell_type": "markdown",
   "id": "43fa6798",
   "metadata": {
    "papermill": {
     "duration": 0.013491,
     "end_time": "2024-07-23T06:34:05.061084",
     "exception": false,
     "start_time": "2024-07-23T06:34:05.047593",
     "status": "completed"
    },
    "tags": []
   },
   "source": [
    "### Deeper Analysis of Guest Reviews:\n",
    "\n",
    "Analyze the text of guest reviews to identify common themes, sentiments, and areas for improvement for hosts.\n",
    "\n",
    "### Impact of Location on Booking Rates:\n",
    "\n",
    "Investigate the impact of specific locations within neighborhoods on booking rates and prices. Proximity to landmarks, public transportation, and amenities could be influential factors.\n",
    "\n",
    "### Seasonal Trends:\n",
    "\n",
    "Explore seasonal trends in booking rates, prices, and availability to understand how different times of the year affect Airbnb listings in NYC.\n",
    "\n",
    "### Comparison with Other Cities:\n",
    "\n",
    "Compare the NYC Airbnb market with other major cities to identify unique trends and commonalities. This could provide valuable insights for hosts and travelers."
   ]
  },
  {
   "cell_type": "markdown",
   "id": "2b51dde1",
   "metadata": {
    "papermill": {
     "duration": 0.013458,
     "end_time": "2024-07-23T06:34:05.088719",
     "exception": false,
     "start_time": "2024-07-23T06:34:05.075261",
     "status": "completed"
    },
    "tags": []
   },
   "source": [
    "# Useful Resources"
   ]
  },
  {
   "cell_type": "markdown",
   "id": "a95bf1fa",
   "metadata": {
    "papermill": {
     "duration": 0.013286,
     "end_time": "2024-07-23T06:34:05.115863",
     "exception": false,
     "start_time": "2024-07-23T06:34:05.102577",
     "status": "completed"
    },
    "tags": []
   },
   "source": [
    "1. Pandas Documentation\n",
    "2. Matplotlib Documentation\n",
    "3. Seaborn Documentation\n",
    "4. NumPy Documentation"
   ]
  }
 ],
 "metadata": {
  "kaggle": {
   "accelerator": "none",
   "dataSources": [
    {
     "datasetId": 268833,
     "sourceId": 611395,
     "sourceType": "datasetVersion"
    }
   ],
   "dockerImageVersionId": 30746,
   "isGpuEnabled": false,
   "isInternetEnabled": true,
   "language": "python",
   "sourceType": "notebook"
  },
  "kernelspec": {
   "display_name": "Python 3",
   "language": "python",
   "name": "python3"
  },
  "language_info": {
   "codemirror_mode": {
    "name": "ipython",
    "version": 3
   },
   "file_extension": ".py",
   "mimetype": "text/x-python",
   "name": "python",
   "nbconvert_exporter": "python",
   "pygments_lexer": "ipython3",
   "version": "3.11.5"
  },
  "papermill": {
   "default_parameters": {},
   "duration": 9.34897,
   "end_time": "2024-07-23T06:34:05.650521",
   "environment_variables": {},
   "exception": null,
   "input_path": "__notebook__.ipynb",
   "output_path": "__notebook__.ipynb",
   "parameters": {},
   "start_time": "2024-07-23T06:33:56.301551",
   "version": "2.5.0"
  }
 },
 "nbformat": 4,
 "nbformat_minor": 5
}
